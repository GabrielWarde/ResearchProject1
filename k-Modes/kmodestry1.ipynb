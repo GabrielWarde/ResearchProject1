{
 "cells": [
  {
   "cell_type": "code",
   "execution_count": 3,
   "metadata": {},
   "outputs": [
    {
     "name": "stderr",
     "output_type": "stream",
     "text": [
      "Running Iterations: 100%|██████████| 50/50 [30:25<00:00, 36.50s/it]"
     ]
    },
    {
     "name": "stdout",
     "output_type": "stream",
     "text": [
      "Average Accuracy (KModes - scikit-learn): 0.8659310344827585\n",
      "Average Rand Index (KModes - scikit-learn): 0.5349836444390911\n",
      "Average Accuracy (KModes - Custom): 0.8853793103448275\n",
      "Average Rand Index (KModes - Custom): 0.5984679468516488\n"
     ]
    },
    {
     "name": "stderr",
     "output_type": "stream",
     "text": [
      "\n"
     ]
    },
    {
     "data": {
      "image/png": "[encoded data removed]",
      "text/plain": [
       "<Figure size 640x480 with 1 Axes>"
      ]
     },
     "metadata": {},
     "output_type": "display_data"
    }
   ],
   "source": [
    "import numpy as np\n",
    "import matplotlib.pyplot as plt\n",
    "import pandas as pd\n",
    "from kmodes.kmodes import KModes\n",
    "from sklearn.metrics import accuracy_score, adjusted_rand_score\n",
    "from tqdm import tqdm\n",
    "\n",
    "def initialize_centroids(data, k):\n",
    "    centroids = data.sample(k).values\n",
    "    return centroids\n",
    "\n",
    "# def calculate_distance(x, centroids):     # using the squared euclidean distance\n",
    "#     distances = np.sum((x - centroids) ** 2, axis=1)\n",
    "#     return distances\n",
    "\n",
    "def calculate_distance(x, centroids):     # using dissimmilarities\n",
    "    distances = np.zeros(len(centroids))\n",
    "    for i, centroid in enumerate(centroids):\n",
    "        distances[i] = np.sum(x != centroid)\n",
    "        \n",
    "    return distances\n",
    "\n",
    "def assign_clusters(data, centroids):\n",
    "    distances = np.apply_along_axis(calculate_distance, 1, data.values, centroids)\n",
    "    clusters = np.argmin(distances, axis=1)\n",
    "    return clusters\n",
    "\n",
    "def update_centroids(data, clusters, k):\n",
    "    centroids = np.zeros((k, data.shape[1]))\n",
    "\n",
    "    for i in range(k):\n",
    "        cluster_instances = data[clusters == i]\n",
    "\n",
    "        if not cluster_instances.empty:\n",
    "            for j in range(data.shape[1]):\n",
    "                mode_values = cluster_instances.iloc[:, j].mode()\n",
    "                if not mode_values.empty:\n",
    "                    centroids[i, j] = mode_values.values[0]\n",
    "\n",
    "    return centroids\n",
    "\n",
    "def kmodes_plus(data, k, num_iterations=50):\n",
    "    for _ in tqdm(range(num_iterations), desc=\"Running Iterations\", leave=False):\n",
    "        centroids = initialize_centroids(data, k)\n",
    "\n",
    "        for _ in range(50):\n",
    "            clusters = assign_clusters(data, centroids)\n",
    "            centroids = update_centroids(data, clusters, k)\n",
    "    return clusters, centroids\n",
    "\n",
    "def align_clusters(clusters, true_labels):\n",
    "    unique_clusters = np.unique(clusters)\n",
    "    aligned_clusters = np.zeros_like(clusters)\n",
    "    for cluster in unique_clusters:\n",
    "        true_label = pd.Series(true_labels[clusters == cluster]).mode()[0]\n",
    "        aligned_clusters[clusters == cluster] = true_label\n",
    "    return aligned_clusters\n",
    "\n",
    "\n",
    "dataset = pd.read_csv('vote.csv')\n",
    "true_labels = dataset.iloc[:, -1].values\n",
    "\n",
    "num_iterations = 50\n",
    "accuracy_results = []\n",
    "rand_index_results = []\n",
    "sklearn_accuracy_results = []\n",
    "sklearn_rand_index_results = []\n",
    "\n",
    "for _ in tqdm(range(num_iterations), desc=\"Running Iterations\"):\n",
    "    # Using kmodes library\n",
    "    kmodes_model = KModes(n_clusters=2, init='Huang', n_init=1, verbose=0)\n",
    "    kmodes_clusters = kmodes_model.fit_predict(dataset.iloc[:, :-1])\n",
    "    aligned_clusters = align_clusters(kmodes_clusters, true_labels) # Aligning clusters\n",
    "    accuracy = accuracy_score(true_labels, aligned_clusters)\n",
    "    rand_index = adjusted_rand_score(true_labels, aligned_clusters)\n",
    "    accuracy_results.append(accuracy)\n",
    "    rand_index_results.append(rand_index)\n",
    "\n",
    "    # Using my custom kmodes_plus\n",
    "    clusters, _ = kmodes_plus(dataset, k=2, num_iterations=50)\n",
    "    aligned_clusterssklearn = align_clusters(clusters, true_labels)\n",
    "    accuracy = accuracy_score(true_labels, aligned_clusterssklearn)\n",
    "    rand_index = adjusted_rand_score(true_labels, aligned_clusterssklearn)\n",
    "    sklearn_accuracy_results.append(accuracy)\n",
    "    sklearn_rand_index_results.append(rand_index)\n",
    "\n",
    "\n",
    "avg_accuracy = np.mean(accuracy_results)\n",
    "avg_rand_index = np.mean(rand_index_results)\n",
    "print(\"Custom KModes Average Accuracy :\", avg_accuracy)\n",
    "print(\"Average Rand Index (KModes - scikit-learn):\", avg_rand_index)\n",
    "\n",
    "avg_custom_accuracy = np.mean(sklearn_accuracy_results)\n",
    "avg_custom_rand_index = np.mean(sklearn_rand_index_results)\n",
    "print(\"KModes SKLearn - Average Accuracy:\", avg_custom_accuracy)\n",
    "print(\"KModes SKLearn - Average Rand Index:\", avg_custom_rand_index)\n",
    "\n",
    "plt.boxplot([accuracy_results, sklearn_accuracy_results], labels=['KModes - Custom', 'KModes - scikit-learn'])\n",
    "plt.title('Accuracy Comparison: KModes')\n",
    "plt.ylabel('Accuracy')\n",
    "plt.show()\n"
   ]
  }
 ],
 "metadata": {
  "kernelspec": {
   "display_name": "Pytpoetryenv",
   "language": "python",
   "name": "python3"
  },
  "language_info": {
   "codemirror_mode": {
    "name": "ipython",
    "version": 3
   },
   "file_extension": ".py",
   "mimetype": "text/x-python",
   "name": "python",
   "nbconvert_exporter": "python",
   "pygments_lexer": "ipython3",
   "version": "3.11.7"
  }
 },
 "nbformat": 4,
 "nbformat_minor": 2
}
