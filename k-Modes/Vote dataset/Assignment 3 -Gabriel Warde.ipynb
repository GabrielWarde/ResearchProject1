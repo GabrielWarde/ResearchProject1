{
 "cells": [
  {
   "cell_type": "code",
   "execution_count": 2,
   "metadata": {},
   "outputs": [
    {
     "name": "stderr",
     "output_type": "stream",
     "text": [
      "Running Iterations:   0%|          | 0/50 [00:00<?, ?it/s]\n",
      "Running Iterations:   0%|          | 0/50 [00:00<?, ?it/s]"
     ]
    },
    {
     "name": "stderr",
     "output_type": "stream",
     "text": [
      "Running Iterations: 100%|██████████| 50/50 [21:05<00:00, 25.31s/it]"
     ]
    },
    {
     "name": "stdout",
     "output_type": "stream",
     "text": [
      "Custom KModes Average Accuracy : 0.8911724137931035\n",
      "Custom KModes Average Rand Index : 0.6115147937266218\n",
      "SKLearn Kmodes Average Accuracy: 0.8636781609195403\n",
      "SKLearn Kmodes Average Rand Index: 0.5285436942352659\n"
     ]
    },
    {
     "name": "stderr",
     "output_type": "stream",
     "text": [
      "\n"
     ]
    },
    {
     "data": {
      "image/png": "[encoded data removed]",
      "text/plain": [
       "<Figure size 640x480 with 1 Axes>"
      ]
     },
     "metadata": {},
     "output_type": "display_data"
    }
   ],
   "source": [
    "import numpy as np\n",
    "import matplotlib.pyplot as plt\n",
    "import pandas as pd\n",
    "from kmodes.kmodes import KModes\n",
    "from sklearn.metrics import accuracy_score, adjusted_rand_score\n",
    "from tqdm import tqdm\n",
    "\n",
    "def initialize_centroids(data, k):\n",
    "    centroids = data.sample(k).values\n",
    "    return centroids\n",
    "\n",
    "# def calculate_distance(x, centroids):     # using the squared euclidean distance\n",
    "#     distances = np.sum((x - centroids) ** 2, axis=1)\n",
    "#     return distances\n",
    "\n",
    "def calculate_distance(x, centroids):     # using dissimmilarities\n",
    "    distances = np.zeros(len(centroids))\n",
    "    for i, centroid in enumerate(centroids):\n",
    "        distances[i] = np.sum(x != centroid)\n",
    "        \n",
    "    return distances\n",
    "\n",
    "def assign_clusters(data, centroids):\n",
    "    distances = np.apply_along_axis(calculate_distance, 1, data.values, centroids)\n",
    "    clusters = np.argmin(distances, axis=1)\n",
    "    return clusters\n",
    "\n",
    "def update_centroids(data, clusters, k):\n",
    "    centroids = np.zeros((k, data.shape[1]))\n",
    "\n",
    "    for i in range(k):\n",
    "        cluster_instances = data[clusters == i]\n",
    "\n",
    "        if not cluster_instances.empty:\n",
    "            for j in range(data.shape[1]): #nbr of cols\n",
    "                mode_values = cluster_instances.iloc[:, j].mode()\n",
    "                if not mode_values.empty:\n",
    "                    centroids[i, j] = mode_values.values[0] # to take 1st mode\n",
    "\n",
    "    return centroids\n",
    "\n",
    "def kmodes_plus(data, k, num_iterations=50):\n",
    "    for _ in tqdm(range(num_iterations), desc=\"Running Iterations\", leave=False):\n",
    "        centroids = initialize_centroids(data, k)\n",
    "\n",
    "        for _ in range(50):\n",
    "            clusters = assign_clusters(data, centroids)\n",
    "            centroids = update_centroids(data, clusters, k)\n",
    "    return clusters, centroids\n",
    "\n",
    "def align_clusters(clusters, true_labels):\n",
    "    unique_clusters = np.unique(clusters)\n",
    "    aligned_clusters = np.zeros_like(clusters)\n",
    "    for cluster in unique_clusters:\n",
    "        true_label = pd.Series(true_labels[clusters == cluster]).mode()[0]\n",
    "        aligned_clusters[clusters == cluster] = true_label\n",
    "    return aligned_clusters\n",
    "\n",
    "\n",
    "dataset = pd.read_csv('vote.csv')\n",
    "true_labels = dataset.iloc[:, -1].values\n",
    "\n",
    "num_iterations = 50\n",
    "custaccuracy_results = []\n",
    "custrand_index_results = []\n",
    "sklearn_accuracy_results = []\n",
    "sklearn_rand_index_results = []\n",
    "\n",
    "for _ in tqdm(range(num_iterations), desc=\"Running Iterations\"):\n",
    "    # Using my custom kmodes_plus\n",
    "    clusters, _ = kmodes_plus(dataset, k=2, num_iterations=50)\n",
    "    custaligned_clusters = align_clusters(clusters, true_labels)\n",
    "    custaccuracy = accuracy_score(true_labels, custaligned_clusters)\n",
    "    custrand_index = adjusted_rand_score(true_labels, custaligned_clusters)\n",
    "    custaccuracy_results.append(custaccuracy)\n",
    "    custrand_index_results.append(custrand_index)\n",
    "\n",
    "    # Using sklearn kmodes\n",
    "    sklearnkmodes = KModes(n_clusters=2, init='Huang', n_init=1, verbose=0)\n",
    "    sklearn_clusters = sklearnkmodes.fit_predict(dataset.iloc[:, :-1])\n",
    "    sklearn_alignedclusters = align_clusters(sklearn_clusters, true_labels) # Aligning clusters\n",
    "    sklearnaccuracy = accuracy_score(true_labels, sklearn_alignedclusters)\n",
    "    sklearnrand_index = adjusted_rand_score(true_labels, sklearn_alignedclusters)\n",
    "    sklearn_accuracy_results.append(sklearnaccuracy)\n",
    "    sklearn_rand_index_results.append(sklearnrand_index)\n",
    "\n",
    "custavg_accuracy = np.mean(custaccuracy_results)\n",
    "custavg_rand_index = np.mean(custrand_index_results)\n",
    "print(\"Custom KModes Average Accuracy :\", custavg_accuracy)\n",
    "print(\"Custom KModes Average Rand Index :\", custavg_rand_index)\n",
    "\n",
    "sklavg_custom_accuracy = np.mean(sklearn_accuracy_results)\n",
    "sklavg_custom_rand_index = np.mean(sklearn_rand_index_results)\n",
    "print(\"SKLearn Kmodes Average Accuracy:\", sklavg_custom_accuracy)\n",
    "print(\"SKLearn Kmodes Average Rand Index:\", sklavg_custom_rand_index)\n",
    "\n",
    "plt.boxplot([custaccuracy_results, sklearn_accuracy_results], labels=['Custom Kmodes', 'Scikit-learn Kmodes'])\n",
    "plt.title('Accuracy Comparison: KModes')\n",
    "plt.ylabel('Accuracy')\n",
    "plt.show()\n"
   ]
  },
  {
   "cell_type": "code",
   "execution_count": 4,
   "metadata": {},
   "outputs": [
    {
     "name": "stdout",
     "output_type": "stream",
     "text": [
      "std: 0.009888905960281639\n",
      "std: 0.031017994529438223\n"
     ]
    }
   ],
   "source": [
    "print(\"std:\", np.std(custaccuracy_results))\n",
    "print(\"std:\", np.std(custrand_index_results))"
   ]
  },
  {
   "cell_type": "code",
   "execution_count": null,
   "metadata": {},
   "outputs": [],
   "source": []
  }
 ],
 "metadata": {
  "kernelspec": {
   "display_name": "Pytpoetryenv",
   "language": "python",
   "name": "python3"
  },
  "language_info": {
   "codemirror_mode": {
    "name": "ipython",
    "version": 3
   },
   "file_extension": ".py",
   "mimetype": "text/x-python",
   "name": "python",
   "nbconvert_exporter": "python",
   "pygments_lexer": "ipython3",
   "version": "3.11.7"
  }
 },
 "nbformat": 4,
 "nbformat_minor": 2
}
