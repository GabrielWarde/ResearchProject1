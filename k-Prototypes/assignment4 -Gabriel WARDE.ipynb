{
 "cells": [
  {
   "cell_type": "code",
   "execution_count": 6,
   "metadata": {},
   "outputs": [],
   "source": [
    "import numpy as np\n",
    "from sklearn.cluster import KMeans\n",
    "from kmodes.kprototypes import KPrototypes\n"
   ]
  },
  {
   "cell_type": "code",
   "execution_count": 14,
   "metadata": {},
   "outputs": [
    {
     "ename": "SyntaxError",
     "evalue": "invalid syntax (3049833721.py, line 17)",
     "output_type": "error",
     "traceback": [
      "\u001b[1;36m  Cell \u001b[1;32mIn[14], line 17\u001b[1;36m\u001b[0m\n\u001b[1;33m    soybean_data = # Load soybean dataset\u001b[0m\n\u001b[1;37m                   ^\u001b[0m\n\u001b[1;31mSyntaxError\u001b[0m\u001b[1;31m:\u001b[0m invalid syntax\n"
     ]
    }
   ],
   "source": [
    "# Define the k-prototypes algorithm\n",
    "def k_prototypes(data, num_clusters, categorical_indices):\n",
    "    # Separate the categorical and numerical data\n",
    "    categorical_data = data[:, categorical_indices]\n",
    "    numerical_data = np.delete(data, categorical_indices, axis=1)\n",
    "\n",
    "    # Initialize the k-prototypes algorithm\n",
    "    kproto = KPrototypes(n_clusters=num_clusters, init='Cao')\n",
    "\n",
    "    # Fit the k-prototypes model\n",
    "    clusters = kproto.fit_predict(numerical_data, categorical_data)\n",
    "\n",
    "    return clusters\n",
    "\n",
    "# Example usage\n",
    "# Load the soybean disease dataset and credit approval dataset\n",
    "soybean_data = # Load soybean dataset\n",
    "credit_data = # Load credit approval dataset\n",
    "\n",
    "# Specify the categorical indices for each dataset\n",
    "soybean_categorical_indices = [1, 2, 3, 4, 5, 6, 7, 8]\n",
    "credit_categorical_indices = [0, 3, 4, 5, 6, 8, 9, 11, 12]\n",
    "\n",
    "# Apply k-prototypes to the soybean dataset\n",
    "soybean_clusters = k_prototypes(soybean_data, num_clusters=3, categorical_indices=soybean_categorical_indices)\n",
    "\n",
    "# Apply k-prototypes to the credit approval dataset\n",
    "credit_clusters = k_prototypes(credit_data, num_clusters=2, categorical_indices=credit_categorical_indices)"
   ]
  },
  {
   "cell_type": "code",
   "execution_count": null,
   "metadata": {},
   "outputs": [],
   "source": []
  },
  {
   "cell_type": "code",
   "execution_count": null,
   "metadata": {},
   "outputs": [],
   "source": []
  },
  {
   "cell_type": "code",
   "execution_count": null,
   "metadata": {},
   "outputs": [],
   "source": []
  }
 ],
 "metadata": {
  "kernelspec": {
   "display_name": "vae_stud",
   "language": "python",
   "name": "python3"
  },
  "language_info": {
   "codemirror_mode": {
    "name": "ipython",
    "version": 3
   },
   "file_extension": ".py",
   "mimetype": "text/x-python",
   "name": "python",
   "nbconvert_exporter": "python",
   "pygments_lexer": "ipython3",
   "version": "3.11.7"
  }
 },
 "nbformat": 4,
 "nbformat_minor": 2
}
